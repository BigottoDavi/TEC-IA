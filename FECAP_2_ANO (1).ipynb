{
  "nbformat": 4,
  "nbformat_minor": 0,
  "metadata": {
    "colab": {
      "provenance": []
    },
    "kernelspec": {
      "name": "python3",
      "display_name": "Python 3"
    },
    "language_info": {
      "name": "python"
    }
  },
  "cells": [
    {
      "cell_type": "code",
      "execution_count": null,
      "metadata": {
        "id": "75lRPD52OWS9"
      },
      "outputs": [],
      "source": [
        "import requests\n",
        "\n",
        "cep = input(\"Digite o seu cep: \")\n",
        "resposta = requests.get(f\"https://viacep.com.br/ws/{cep}/json/\")\n",
        "print(resposta)\n",
        "print(resposta.json())"
      ]
    },
    {
      "cell_type": "code",
      "source": [
        "import requests\n",
        "\n",
        "resposta = requests.get(\"https://api.nasa.gov/mars-photos/api/v1/rovers/opportunity/latest_photos?api_key=vyxqBCLUzuVhtGY3ChWxmwKilSocFHMwvMNQReVJ\")\n",
        "x = resposta.json()\n",
        "link = x['latest_photos'][0]['img_src']\n",
        "print(\"O link da foto é:\",link)\n"
      ],
      "metadata": {
        "id": "pdbCMPtqPXaI",
        "colab": {
          "base_uri": "https://localhost:8080/"
        },
        "outputId": "81bbbcaa-c62d-4712-ad7a-7be038429218"
      },
      "execution_count": 42,
      "outputs": [
        {
          "output_type": "stream",
          "name": "stdout",
          "text": [
            "O link da foto é: https://mars.nasa.gov/mer/gallery/all/1/p/5111/1P581919922EFFD2FCP2682L8M1-BR.JPG\n"
          ]
        }
      ]
    },
    {
      "cell_type": "code",
      "source": [],
      "metadata": {
        "id": "p_uUO3ggLVK3"
      },
      "execution_count": null,
      "outputs": []
    }
  ]
}