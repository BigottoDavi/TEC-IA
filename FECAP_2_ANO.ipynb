{
  "nbformat": 4,
  "nbformat_minor": 0,
  "metadata": {
    "colab": {
      "provenance": []
    },
    "kernelspec": {
      "name": "python3",
      "display_name": "Python 3"
    },
    "language_info": {
      "name": "python"
    }
  },
  "cells": [
    {
      "cell_type": "code",
      "execution_count": null,
      "metadata": {
        "id": "75lRPD52OWS9"
      },
      "outputs": [],
      "source": [
        "import requests\n",
        "\n",
        "cep = input(\"Digite o seu cep: \")\n",
        "resposta = requests.get(f\"https://viacep.com.br/ws/{cep}/json/\")\n",
        "print(resposta)\n",
        "print(resposta.json())"
      ]
    },
    {
      "cell_type": "code",
      "source": [
        "import requests\n",
        "\n",
        "resposta = requests.get(\"https://api.nasa.gov/mars-photos/api/v1/rovers/curiosity/latest_photos?api_key=vyxqBCLUzuVhtGY3ChWxmwKilSocFHMwvMNQReVJ\")\n",
        "x = resposta.json()\n",
        "link = x['latest_photos'][0]['img_src']\n",
        "print(\"O link da foto é:\",link)\n"
      ],
      "metadata": {
        "id": "pdbCMPtqPXaI",
        "colab": {
          "base_uri": "https://localhost:8080/"
        },
        "outputId": "54261385-5188-469e-fc63-f606eedc3eea"
      },
      "execution_count": 40,
      "outputs": [
        {
          "output_type": "stream",
          "name": "stdout",
          "text": [
            "O link da foto é: https://mars.nasa.gov/msl-raw-images/proj/msl/redops/ods/surface/sol/04102/opgs/edr/fcam/FLB_761645828EDR_F1060660FHAZ00302M_.JPG\n"
          ]
        }
      ]
    },
    {
      "cell_type": "code",
      "source": [],
      "metadata": {
        "id": "p_uUO3ggLVK3"
      },
      "execution_count": null,
      "outputs": []
    }
  ]
}